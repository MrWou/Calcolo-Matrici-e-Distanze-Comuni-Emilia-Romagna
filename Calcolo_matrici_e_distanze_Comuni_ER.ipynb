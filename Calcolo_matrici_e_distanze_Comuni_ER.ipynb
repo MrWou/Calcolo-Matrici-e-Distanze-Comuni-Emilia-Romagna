{
  "nbformat": 4,
  "nbformat_minor": 0,
  "metadata": {
    "colab": {
      "provenance": [],
      "authorship_tag": "ABX9TyMiiLEvJ/dv+Ww5GlGYxzEd",
      "include_colab_link": true
    },
    "kernelspec": {
      "name": "python3",
      "display_name": "Python 3"
    },
    "language_info": {
      "name": "python"
    }
  },
  "cells": [
    {
      "cell_type": "markdown",
      "metadata": {
        "id": "view-in-github",
        "colab_type": "text"
      },
      "source": [
        "<a href=\"https://colab.research.google.com/github/MrWou/Calcolo-Matrici-e-Distanze-Comuni-Emilia-Romagna/blob/main/Calcolo_matrici_e_distanze_Comuni_ER.ipynb\" target=\"_parent\"><img src=\"https://colab.research.google.com/assets/colab-badge.svg\" alt=\"Open In Colab\"/></a>"
      ]
    },
    {
      "cell_type": "markdown",
      "source": [
        "# Installa Open Route Service"
      ],
      "metadata": {
        "id": "FyPwEpVYfaKH"
      }
    },
    {
      "cell_type": "code",
      "source": [
        "!pip install --upgrade openrouteservice"
      ],
      "metadata": {
        "colab": {
          "base_uri": "https://localhost:8080/"
        },
        "id": "WjxhSJmLDumw",
        "outputId": "bd5e4af8-d9bd-4ccc-cc47-3ae6ad15f220"
      },
      "execution_count": 1,
      "outputs": [
        {
          "output_type": "stream",
          "name": "stdout",
          "text": [
            "Collecting openrouteservice\n",
            "  Downloading openrouteservice-2.3.3-py3-none-any.whl.metadata (9.2 kB)\n",
            "Requirement already satisfied: requests>=2.0 in /usr/local/lib/python3.12/dist-packages (from openrouteservice) (2.32.4)\n",
            "Requirement already satisfied: charset_normalizer<4,>=2 in /usr/local/lib/python3.12/dist-packages (from requests>=2.0->openrouteservice) (3.4.3)\n",
            "Requirement already satisfied: idna<4,>=2.5 in /usr/local/lib/python3.12/dist-packages (from requests>=2.0->openrouteservice) (3.10)\n",
            "Requirement already satisfied: urllib3<3,>=1.21.1 in /usr/local/lib/python3.12/dist-packages (from requests>=2.0->openrouteservice) (2.5.0)\n",
            "Requirement already satisfied: certifi>=2017.4.17 in /usr/local/lib/python3.12/dist-packages (from requests>=2.0->openrouteservice) (2025.8.3)\n",
            "Downloading openrouteservice-2.3.3-py3-none-any.whl (33 kB)\n",
            "Installing collected packages: openrouteservice\n",
            "Successfully installed openrouteservice-2.3.3\n"
          ]
        }
      ]
    },
    {
      "cell_type": "markdown",
      "metadata": {
        "id": "556a4026"
      },
      "source": [
        "# Import localities from ERT\n",
        "\n",
        "Questo script Python utilizza l'API di Emilia Romagna Turismo (ERT) per estrarre un elenco di località.\n",
        "\n",
        "Viene effettuata una richiesta paginata all'endpoint `/opendata/v1/localities` dell'API per recuperare tutte le località disponibili, con un limite di 100 record per pagina.\n",
        "\n",
        "I dati estratti vengono poi elaborati e organizzati in un DataFrame Pandas (`df_comuni`) contenente le seguenti informazioni per ciascuna località:\n",
        "\n",
        "- `id`: ID univoco della località\n",
        "- `title`: Nome della località\n",
        "- `lat`: Latitudine della località\n",
        "- `lng`: Longitudine della località\n",
        "- `istat`: Codice ISTAT del comune di appartenenza\n",
        "- `city_name`: Nome del comune di appartenenza\n",
        "- `province_short`: Sigla della provincia\n",
        "\n",
        "Il DataFrame viene pulito rimuovendo i duplicati basati sulle coordinate (latitudine e longitudine) per garantire l'unicità di ogni punto geografico.\n",
        "\n",
        "Infine, viene creata una lista di coordinate (`ors_coordinates`) nel formato `[Longitudine, Latitudine]`, pronta per essere utilizzata con servizi di routing come OpenRouteService (ORS).\n",
        "\n",
        "Il conteggio finale dei comuni unici viene stampato, insieme a un avviso se l'estrazione non ha recuperato il numero atteso di record, suggerendo che l'API potrebbe non supportare completamente la paginazione."
      ]
    },
    {
      "cell_type": "code",
      "execution_count": null,
      "metadata": {
        "id": "BPBlH9qCAiYi"
      },
      "outputs": [],
      "source": [
        "import requests\n",
        "import pandas as pd\n",
        "import math\n",
        "import sys\n",
        "\n",
        "# --- Configurazione API ---\n",
        "BASE_URL = \"https://emiliaromagnaturismo.it/opendata/v1/localities\"\n",
        "# Usiamo il limite massimo che l'API accetta senza errore 400\n",
        "API_LIMIT = 100\n",
        "TOTAL_RECORDS = 406\n",
        "\n",
        "# Calcolo del numero di pagine (anche se l'API potrebbe ignorare 'page')\n",
        "num_pages = math.ceil(TOTAL_RECORDS / API_LIMIT)\n",
        "\n",
        "all_localities_data = []\n",
        "\n",
        "print(\"=\" * 60)\n",
        "print(f\"FASE 1: Estrazione Località da Emilia Romagna Turismo\")\n",
        "print(f\"Totale record teorici: {TOTAL_RECORDS}, Richieste: {num_pages} (limit={API_LIMIT})\")\n",
        "print(\"=\" * 60)\n",
        "\n",
        "# --- Estrazione Dati tramite Paginazione ---\n",
        "for page in range(1, num_pages + 1):\n",
        "    params = {\n",
        "        'page': page,\n",
        "        'limit': API_LIMIT # Parametro corretto per la dimensione della pagina\n",
        "    }\n",
        "\n",
        "    print(f\"Richiesta Pagina {page}/{num_pages}...\")\n",
        "\n",
        "    try:\n",
        "        response = requests.get(BASE_URL, params=params, timeout=30)\n",
        "        response.raise_for_status()\n",
        "        data = response.json()\n",
        "\n",
        "        localities = data.get('data', [])\n",
        "\n",
        "        # Estrazione dei campi\n",
        "        for item in localities:\n",
        "            # Controllo di sicurezza per coordinate e dati di città\n",
        "            if (item.get('location') and item['location'].get('lat') is not None and\n",
        "                item['location'].get('lng') is not None and item['location'].get('city')):\n",
        "\n",
        "                locality_data = {\n",
        "                    'id': item.get('id'),\n",
        "                    'title': item.get('title'),\n",
        "                    'lat': item['location']['lat'],\n",
        "                    'lng': item['location']['lng'],\n",
        "                    'istat':item['location']['city'].get('istat'),\n",
        "                    'city_name': item['location']['city'].get('city'),\n",
        "                    'province_short': item['location']['city'].get('province_short'),\n",
        "                }\n",
        "                all_localities_data.append(locality_data)\n",
        "\n",
        "    except requests.exceptions.RequestException as e:\n",
        "        print(f\"Errore CRITICO nella richiesta per la Pagina {page}: {e}\")\n",
        "        # Termina il programma se c'è un errore di rete o server\n",
        "        sys.exit(1)\n",
        "\n",
        "print(\"-\" * 60)\n",
        "print(f\"Estrazione completata. Totale record grezzi estratti: {len(all_localities_data)}\")\n",
        "\n",
        "# --- Pulizia e Preparazione del DataFrame ---\n",
        "df_comuni = pd.DataFrame(all_localities_data)\n",
        "\n",
        "# Il passo di rimozione dei duplicati è CRUCIALE se l'API ignora 'page'\n",
        "df_comuni = df_comuni.drop_duplicates(subset=['lat', 'lng']).reset_index(drop=True)\n",
        "\n",
        "final_count = len(df_comuni)\n",
        "print(f\"Conteggio finale dei comuni unici pronti per ORS: {final_count}\")\n",
        "\n",
        "if final_count < 400:\n",
        "    print(f\"\\nAVVISO: L'estrazione è incompleta (solo {final_count} su 406).\")\n",
        "    print(\"Probabilmente l'API ignora il parametro 'page' e restituisce solo i primi 100 record.\")\n",
        "    print(\"La matrice delle distanze verrà calcolata solo tra questi comuni.\")\n",
        "\n",
        "# --- Creazione della lista finale di coordinate per ORS ---\n",
        "\n",
        "# OSRM/ORS richiede le coordinate nel formato [Longitudine, Latitudine]\n",
        "ors_coordinates = df_comuni[['lng', 'lat']].values.tolist()\n",
        "\n",
        "# Salviamo il DataFrame in CSV per riferimento futuro\n",
        "# df_comuni.to_csv('comuni_emilia_romagna_per_ors.csv', index=False)\n",
        "\n",
        "print(\"\\n\" + \"=\" * 60)\n",
        "print(\"Risultato: Lista 'ors_coordinates' pronta per il calcolo Matrice.\")\n",
        "print(f\"Esempio (primi 3 punti): {ors_coordinates[:3]}\")\n",
        "print(\"=\" * 60)"
      ]
    },
    {
      "cell_type": "markdown",
      "source": [
        "# Script per il calcolo delle distanze\n",
        "\n",
        "Eseguendo questo script, si otterrà un DataFrame Pandas chiamato distance_matrix_km con tutti i comuni dell'Emilia-Romagna come indici e contenente le distanze stradali in chilometri.\n",
        "\n",
        "[openrouteservice sito web](https://openrouteservice.org/)\n",
        "\n",
        "La quota massima giornaliera è di 500 richieste.\n",
        "Per ogni RUN lo script consuma circa 400 richieste e quindi esaurisce la sua quota limite gratuita.\n",
        "Per rilanciare lo script bsognerà attendere 24h."
      ],
      "metadata": {
        "id": "bXMw-oATEDEo"
      }
    },
    {
      "cell_type": "markdown",
      "metadata": {
        "id": "6efbd0e9"
      },
      "source": [
        "# Script per il calcolo delle distanze con OpenRouteService\n",
        "\n",
        "Questo script calcola la matrice delle distanze stradali tra un insieme di località utilizzando l'API di OpenRouteService (ORS).\n",
        "\n",
        "**Prerequisiti:**\n",
        "\n",
        "- Un token API valido per OpenRouteService. Assicurati di averlo memorizzato nelle Colab Secrets con il nome `ORS`.\n",
        "- Un DataFrame Pandas chiamato `df_comuni` e una lista di coordinate `ors_coordinates`, ottenuti ad esempio eseguendo lo script di importazione delle località da Emilia Romagna Turismo.\n",
        "\n",
        "**Funzionamento:**\n",
        "\n",
        "1. **Configurazione ORS:** Viene inizializzato il client ORS utilizzando il token API fornito.\n",
        "2. **Inizializzazione Matrice:** Viene creato un DataFrame vuoto (`distance_matrix_df`) con gli stessi nomi delle località sia per gli indici di riga che per le colonne. Questo DataFrame verrà popolato con le distanze.\n",
        "3. **Calcolo Distanze:** Lo script itera su ogni località (origine). Per ciascuna origine, effettua una richiesta all'API ORS per calcolare la distanza stradale verso tutte le altre località (destinazioni). Viene utilizzato il profilo di routing 'driving-car' e richiesta la metrica di distanza in metri.\n",
        "4. **Gestione Limiti API:** Viene introdotta una pausa (`SLEEP_TIME`) tra le richieste per rispettare i limiti di rate dell'API pubblica di ORS (solitamente 40 richieste al minuto). In caso di errori API (ad es. superamento del limite di richieste), viene fatta una pausa più lunga.\n",
        "5. **Post-Elaborazione:** Una volta completato il calcolo, la matrice viene convertita da metri a chilometri (`distance_matrix_km`). I valori mancanti (NaN) vengono riempiti assumendo che la distanza A->B sia uguale alla distanza B->A, e la diagonale (distanza di un punto da se stesso) viene impostata a 0.\n",
        "6. **Output e Salvataggio:** La matrice delle distanze finale (in Km) viene stampata in anteprima e salvata in un file CSV (`matrice_distanze_XXX_comuni.csv`, dove XXX è il numero di comuni).\n",
        "\n",
        "**Nota:** La quota massima giornaliera dell'API gratuita di ORS è di 500 richieste. Questo script, calcolando una matrice completa per 404 comuni, consumerà circa 404 richieste, esaurendo quasi tutta la quota giornaliera. Sarà necessario attendere 24 ore per poter eseguire nuovamente lo script completo con lo stesso token API."
      ]
    },
    {
      "cell_type": "code",
      "source": [
        "from google.colab import userdata\n",
        "import pandas as pd\n",
        "import openrouteservice\n",
        "import time\n",
        "import sys\n",
        "\n",
        "# --- Configurazione ORS ---\n",
        "# Inserisci la tua API Key di OpenRouteService qui!\n",
        "ORS_API_KEY = 'YOUR TOKEN ORS'\n",
        "if ORS_API_KEY == 'YOUR TOKEN ORS' or ORS_API_KEY is None:\n",
        "    print(\"\\nERRORE: Inserisci il tuo token ORS per procedere con il calcolo delle distanze.\")\n",
        "    sys.exit(1)\n",
        "\n",
        "client = openrouteservice.Client(key=ORS_API_KEY)\n",
        "final_count = len(df_comuni)\n",
        "\n",
        "# --- Inizializzazione Matrice di Risultato ---\n",
        "# Usiamo i nomi dei punti (title) per etichettare righe e colonne.\n",
        "final_count = len(df_comuni)\n",
        "title_labels = df_comuni['title'].tolist()\n",
        "\n",
        "distance_matrix_df = pd.DataFrame(\n",
        "    index=title_labels,\n",
        "    columns=title_labels,\n",
        "    dtype=float\n",
        ")\n",
        "\n",
        "print(\"\\n\" + \"=\" * 60)\n",
        "print(f\"FASE 2: Inizio Calcolo Matrice ORS ({final_count}x{final_count})...\")\n",
        "print(f\"Tempo stimato: ~{final_count * 1.6 / 60:.1f} minuti (con pausa di {1.6}s).\")\n",
        "print(\"=\" * 60)\n",
        "\n",
        "SLEEP_TIME = 2.5  # Pausa di sicurezza tra le richieste (per limite 40/min)\n",
        "\n",
        "# --- Loop: Calcolo 1 Origine vs. Tutte le Destinazioni ---\n",
        "for i in range(final_count):\n",
        "\n",
        "    origin_name = title_labels[i]\n",
        "    print(f\"Richiesta {i + 1}/{final_count}: calcolo distanze da {origin_name}...\")\n",
        "\n",
        "    try:\n",
        "        # Calcola la matrice 1xN (1 Origine vs. tutte le Destinazioni)\n",
        "        result = client.distance_matrix(\n",
        "            locations=ors_coordinates,\n",
        "            sources=[i], # Indice dell'origine corrente\n",
        "            destinations=list(range(final_count)), # Tutti i punti come destinazioni\n",
        "            profile='driving-car',\n",
        "            metrics=['distance'] # Richiedi la distanza stradale in metri\n",
        "        )\n",
        "\n",
        "        # Estrazione e salvataggio dei risultati\n",
        "        # 'distances' è una lista di liste. Con 1 sorgente, prendiamo il primo elemento [0]\n",
        "        distances = result['distances'][0]\n",
        "\n",
        "        # Inseriamo i risultati nella riga 'i' (corrispondente all'origine)\n",
        "        distance_matrix_df.iloc[i, :] = distances\n",
        "\n",
        "    except Exception as e:\n",
        "        print(f\"\\n!!! Errore ORS per {origin_name}: {e} !!!\")\n",
        "        distance_matrix_df.iloc[i, :] = float('nan')\n",
        "        time.sleep(10) # Pausa più lunga in caso di errore API (es. Rate Limit)\n",
        "\n",
        "    # Pausa per rispettare il rate limit dell'API pubblica\n",
        "    time.sleep(SLEEP_TIME)\n",
        "\n",
        "print(\"=\" * 60)\n",
        "print(\"Calcolo Matrice COMPLETATO.\")\n",
        "\n",
        "# --- FASE 3: Post-Elaborazione e Stampa ---\n",
        "\n",
        "# 1. Converti in Km\n",
        "distance_matrix_km = distance_matrix_df / 1000\n",
        "\n",
        "# 2. Rendi la matrice simmetrica e pulisci la diagonale\n",
        "# Riempi i valori mancanti (NaN) copiando la trasposta (Distanza A->B = B->A)\n",
        "distance_matrix_km = distance_matrix_km.combine_first(distance_matrix_km.T).fillna(0)\n",
        "\n",
        "# 3. Visualizzazione e Salvataggio\n",
        "print(\"\\nMatrice delle Distanze Finali (in Km - primi 5):\\n\")\n",
        "print(distance_matrix_km.head())\n",
        "print(f\"\\nMatrice creata, dimensione {distance_matrix_km.shape[0]}x{distance_matrix_km.shape[1]}\")\n",
        "\n",
        "# Salvataggio su file CSV\n",
        "distance_matrix_km.to_csv(f'matrice_distanze_{final_count}_comuni.csv')"
      ],
      "metadata": {
        "id": "zET3AzqcC92y"
      },
      "execution_count": null,
      "outputs": []
    }
  ]
}